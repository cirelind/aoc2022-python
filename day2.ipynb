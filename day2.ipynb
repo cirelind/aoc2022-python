{
 "cells": [
  {
   "cell_type": "code",
   "execution_count": 21,
   "id": "09b409fd",
   "metadata": {},
   "outputs": [],
   "source": [
    "with open(\"input2.txt\", 'r') as file:\n",
    "    inp = file.read()"
   ]
  },
  {
   "cell_type": "code",
   "execution_count": 22,
   "id": "877af678",
   "metadata": {},
   "outputs": [],
   "source": [
    "inp = [line.split(\" \") for line in inp.split(\"\\n\")]"
   ]
  },
  {
   "cell_type": "code",
   "execution_count": 23,
   "id": "94688862",
   "metadata": {},
   "outputs": [],
   "source": [
    "def point_calc(rnd):\n",
    "    \n",
    "    points = 0\n",
    "    you, opp = rnd[1], rnd[0]\n",
    "    \n",
    "    if you == \"X\":\n",
    "        points += 1\n",
    "        if opp == \"A\":\n",
    "            points += 3\n",
    "        elif opp == \"B\":\n",
    "            points += 0\n",
    "        else:\n",
    "            points += 6\n",
    "    elif you == \"Y\":\n",
    "        points += 2\n",
    "        if opp == \"A\":\n",
    "            points += 6\n",
    "        elif opp == \"B\":\n",
    "            points += 3\n",
    "        else:\n",
    "            points += 0\n",
    "    else:\n",
    "        points += 3\n",
    "        if opp == \"A\": \n",
    "            points += 0\n",
    "        elif opp == \"B\":\n",
    "            points += 6\n",
    "        else:\n",
    "            points += 3\n",
    "            \n",
    "    return points"
   ]
  },
  {
   "cell_type": "code",
   "execution_count": 24,
   "id": "58b067e4",
   "metadata": {},
   "outputs": [
    {
     "data": {
      "text/plain": [
       "15632"
      ]
     },
     "execution_count": 24,
     "metadata": {},
     "output_type": "execute_result"
    }
   ],
   "source": [
    "ans1 = sum([point_calc(r) for r in inp[:-1]])\n",
    "ans1"
   ]
  },
  {
   "cell_type": "code",
   "execution_count": 25,
   "id": "76080d6a",
   "metadata": {},
   "outputs": [],
   "source": [
    "def change_shape(rnd):\n",
    "    ans = [rnd[0], rnd[1]]\n",
    "    \n",
    "    if ans[0] == \"A\":\n",
    "        if ans[1] == \"X\":\n",
    "            ans[1] = \"Z\"\n",
    "        elif ans[1] == \"Y\":\n",
    "            ans[1] = \"X\"\n",
    "        else:\n",
    "            ans[1] = \"Y\"\n",
    "            \n",
    "    elif ans[0] == \"C\":\n",
    "        if ans[1] == \"X\":\n",
    "            ans[1] = \"Y\"\n",
    "        elif ans[1] == \"Y\":\n",
    "            ans[1] = \"Z\"\n",
    "        else:\n",
    "            ans[1] = \"X\"\n",
    "    else:\n",
    "        pass\n",
    "    return ans"
   ]
  },
  {
   "cell_type": "code",
   "execution_count": 26,
   "id": "8258e272",
   "metadata": {},
   "outputs": [
    {
     "data": {
      "text/plain": [
       "14416"
      ]
     },
     "execution_count": 26,
     "metadata": {},
     "output_type": "execute_result"
    }
   ],
   "source": [
    "ans2 = sum([point_calc(change_shape(r)) for r in inp[:-1]])\n",
    "ans2"
   ]
  }
 ],
 "metadata": {
  "kernelspec": {
   "display_name": "Python 3 (ipykernel)",
   "language": "python",
   "name": "python3"
  },
  "language_info": {
   "codemirror_mode": {
    "name": "ipython",
    "version": 3
   },
   "file_extension": ".py",
   "mimetype": "text/x-python",
   "name": "python",
   "nbconvert_exporter": "python",
   "pygments_lexer": "ipython3",
   "version": "3.9.13"
  }
 },
 "nbformat": 4,
 "nbformat_minor": 5
}
