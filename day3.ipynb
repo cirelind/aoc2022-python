{
 "cells": [
  {
   "cell_type": "code",
   "execution_count": 120,
   "id": "7b80cb5b",
   "metadata": {},
   "outputs": [],
   "source": [
    "with open(\"input3.txt\", 'r') as file:\n",
    "    inp = file.read()\n",
    "    \n",
    "inp = inp.split(\"\\n\")[:-1]"
   ]
  },
  {
   "cell_type": "code",
   "execution_count": 121,
   "id": "a4ed0255",
   "metadata": {
    "scrolled": false
   },
   "outputs": [],
   "source": [
    "inp1 = [[line[int(len(line)/2):], line[:int(len(line)/2)]] for line in inp]"
   ]
  },
  {
   "cell_type": "code",
   "execution_count": 122,
   "id": "9d4bbc6e",
   "metadata": {},
   "outputs": [],
   "source": [
    "def take_same(seq):\n",
    "    for letter in seq[0]:\n",
    "        if letter in seq[1]:\n",
    "            return letter\n",
    "        \n",
    "inp1 = [take_same(line) for line in inp1]"
   ]
  },
  {
   "cell_type": "code",
   "execution_count": 123,
   "id": "f09a38da",
   "metadata": {},
   "outputs": [],
   "source": [
    "def prio_value(letter):\n",
    "    \n",
    "    if letter.islower():\n",
    "        return ord(letter) - 96\n",
    "    return ord(letter) - 38"
   ]
  },
  {
   "cell_type": "code",
   "execution_count": 124,
   "id": "a78241c9",
   "metadata": {},
   "outputs": [
    {
     "data": {
      "text/plain": [
       "8515"
      ]
     },
     "execution_count": 124,
     "metadata": {},
     "output_type": "execute_result"
    }
   ],
   "source": [
    "ans1 = sum(prio_value(letter) for letter in inp1)\n",
    "ans1"
   ]
  },
  {
   "cell_type": "code",
   "execution_count": 125,
   "id": "398a25df",
   "metadata": {},
   "outputs": [],
   "source": [
    "inp2 = [inp[i:i+3] for i in range(0, len(inp), 3)]"
   ]
  },
  {
   "cell_type": "code",
   "execution_count": 126,
   "id": "7687fc86",
   "metadata": {
    "scrolled": true
   },
   "outputs": [],
   "source": [
    "def take_same2(seq):\n",
    "    for letter in seq[0]:\n",
    "        if letter in seq[1] and letter in seq[2]:\n",
    "            return letter\n",
    "\n",
    "inp2 = [take_same2(line) for line in inp2]"
   ]
  },
  {
   "cell_type": "code",
   "execution_count": 127,
   "id": "99467a7a",
   "metadata": {},
   "outputs": [
    {
     "data": {
      "text/plain": [
       "2434"
      ]
     },
     "execution_count": 127,
     "metadata": {},
     "output_type": "execute_result"
    }
   ],
   "source": [
    "ans2 = sum(prio_value(letter) for letter in inp2)\n",
    "ans2"
   ]
  }
 ],
 "metadata": {
  "kernelspec": {
   "display_name": "Python 3 (ipykernel)",
   "language": "python",
   "name": "python3"
  },
  "language_info": {
   "codemirror_mode": {
    "name": "ipython",
    "version": 3
   },
   "file_extension": ".py",
   "mimetype": "text/x-python",
   "name": "python",
   "nbconvert_exporter": "python",
   "pygments_lexer": "ipython3",
   "version": "3.9.13"
  }
 },
 "nbformat": 4,
 "nbformat_minor": 5
}
