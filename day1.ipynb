{
 "cells": [
  {
   "cell_type": "code",
   "execution_count": 1,
   "id": "8ab00ed5",
   "metadata": {},
   "outputs": [],
   "source": [
    "with open(\"input1.txt\", 'r') as file:\n",
    "    inp = file.read()"
   ]
  },
  {
   "cell_type": "code",
   "execution_count": 2,
   "id": "079b633d",
   "metadata": {
    "scrolled": false
   },
   "outputs": [],
   "source": [
    "inp = [line.split(\"\\n\") for line in inp.split(\"\\n\\n\")][:-1]"
   ]
  },
  {
   "cell_type": "code",
   "execution_count": 3,
   "id": "ea7337c4",
   "metadata": {
    "scrolled": true
   },
   "outputs": [
    {
     "data": {
      "text/plain": [
       "72478"
      ]
     },
     "execution_count": 3,
     "metadata": {},
     "output_type": "execute_result"
    }
   ],
   "source": [
    "ans1  = max([sum(map(int, line)) for line in inp])\n",
    "ans1"
   ]
  },
  {
   "cell_type": "code",
   "execution_count": 4,
   "id": "9897b4bd",
   "metadata": {},
   "outputs": [
    {
     "data": {
      "text/plain": [
       "210367"
      ]
     },
     "execution_count": 4,
     "metadata": {},
     "output_type": "execute_result"
    }
   ],
   "source": [
    "ans2 = sum(sorted([sum(map(int, line)) for line in inp])[-3:])\n",
    "ans2"
   ]
  }
 ],
 "metadata": {
  "kernelspec": {
   "display_name": "Python 3 (ipykernel)",
   "language": "python",
   "name": "python3"
  },
  "language_info": {
   "codemirror_mode": {
    "name": "ipython",
    "version": 3
   },
   "file_extension": ".py",
   "mimetype": "text/x-python",
   "name": "python",
   "nbconvert_exporter": "python",
   "pygments_lexer": "ipython3",
   "version": "3.9.13"
  }
 },
 "nbformat": 4,
 "nbformat_minor": 5
}
